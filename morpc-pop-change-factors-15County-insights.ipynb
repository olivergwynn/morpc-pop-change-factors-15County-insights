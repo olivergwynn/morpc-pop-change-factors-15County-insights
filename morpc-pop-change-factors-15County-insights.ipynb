{
 "cells": [
  {
   "cell_type": "markdown",
   "id": "9d253ac3-7ae7-4493-ada4-2ba4ec58bac0",
   "metadata": {},
   "source": [
    "# Pop Change Factors 15County 2010-2023"
   ]
  },
  {
   "cell_type": "markdown",
   "id": "83f6ab78-3292-40fa-ae3c-13e15ed8bc80",
   "metadata": {},
   "source": [
    "## Setup"
   ]
  },
  {
   "cell_type": "code",
   "execution_count": 1,
   "id": "329087cd-3784-4e35-a45a-f799a5f402e2",
   "metadata": {},
   "outputs": [
    {
     "name": "stderr",
     "output_type": "stream",
     "text": [
      "C:\\Users\\ogwynn\\AppData\\Local\\Packages\\PythonSoftwareFoundation.Python.3.12_qbz5n2kfra8p0\\LocalCache\\local-packages\\Python312\\site-packages\\dask\\dataframe\\__init__.py:49: FutureWarning: \n",
      "Dask dataframe query planning is disabled because dask-expr is not installed.\n",
      "\n",
      "You can install it with `pip install dask[dataframe]` or `conda install dask`.\n",
      "This will raise in a future version.\n",
      "\n",
      "  warnings.warn(msg, FutureWarning)\n"
     ]
    }
   ],
   "source": [
    "import pandas as pd\n",
    "import os\n",
    "import matplotlib.pyplot as plt\n",
    "import time\n",
    "from arcgis.features import FeatureLayerCollection\n",
    "from arcgis.gis import GIS\n",
    "from pathlib import Path\n",
    "from zipfile import ZipFile\n",
    "import pandas as pd\n",
    "\n",
    "# Connect to ArcGIS Online\n",
    "gis = GIS(\"https://www.arcgis.com\", \"ogwynn_morpc\", \"Cr33p3r11!!\")"
   ]
  },
  {
   "cell_type": "markdown",
   "id": "736fdda5-29e3-43fb-833e-da5dafa3ea22",
   "metadata": {},
   "source": [
    "## Data inititalization"
   ]
  },
  {
   "cell_type": "code",
   "execution_count": 2,
   "id": "9647d83b-89d6-4da0-809f-c9452ba76d8f",
   "metadata": {},
   "outputs": [
    {
     "data": {
      "text/plain": [
       "(   YEAR              NAME VARIABLE    VALUE\n",
       " 0  2010  15-County Region   BIRTHS  29733.0\n",
       " 1  2011  15-County Region   BIRTHS  29705.0\n",
       " 2  2012  15-County Region   BIRTHS  30059.0\n",
       " 3  2013  15-County Region   BIRTHS  30594.0\n",
       " 4  2014  15-County Region   BIRTHS  30746.0,\n",
       " 'popFactors_long.csv')"
      ]
     },
     "execution_count": 2,
     "metadata": {},
     "output_type": "execute_result"
    }
   ],
   "source": [
    "data = pd.read_csv('popFactors.csv')\n",
    "\n",
    "# Convert the dataframe from wide to long format\n",
    "long_data = pd.melt(data, id_vars=['YEAR', 'NAME'], var_name='VARIABLE', value_name='VALUE')\n",
    "\n",
    "# Save the long-form dataframe to a new CSV file\n",
    "output_file_path = 'popFactors_long.csv'\n",
    "long_data.to_csv(output_file_path, index=False)\n",
    "\n",
    "# Display the first few rows of the long-form dataframe\n",
    "long_data.head(), output_file_path"
   ]
  },
  {
   "cell_type": "markdown",
   "id": "a7bf8332-278a-42bc-8260-8df8cad0a424",
   "metadata": {},
   "source": [
    "## Pulling Existing Catalog from AGO"
   ]
  },
  {
   "cell_type": "code",
   "execution_count": 3,
   "id": "0d87eaf0-7f9a-4505-bda6-b81bb6f833bb",
   "metadata": {},
   "outputs": [
    {
     "name": "stdout",
     "output_type": "stream",
     "text": [
      "CSV file downloaded successfully: inputData\\insightsCatalog\\morpc_insights_catalog.xlsx\n"
     ]
    }
   ],
   "source": [
    "# Define the directory to save the data\n",
    "data_path = Path('inputData/insightsCatalog')\n",
    "data_path.mkdir(parents=True, exist_ok=True)\n",
    "\n",
    "# Access the CSV item by ID\n",
    "catalog_item_id = \"c396b9d0db724d1f870fa47f1d1dc1ce\"\n",
    "csv_item = gis.content.get(catalog_item_id)\n",
    "\n",
    "# Download the CSV file\n",
    "catalog_path = csv_item.download(save_path=data_path)\n",
    "\n",
    "print(f\"CSV file downloaded successfully: {catalog_path}\")"
   ]
  },
  {
   "cell_type": "markdown",
   "id": "39044f94-54ad-4942-adec-1f393d72ff82",
   "metadata": {},
   "source": [
    "## Creating plots for 15 counties and region summary"
   ]
  },
  {
   "cell_type": "code",
   "execution_count": 4,
   "id": "a550a141-51c4-4857-9b5c-4be637535e40",
   "metadata": {},
   "outputs": [
    {
     "data": {
      "text/plain": [
       "\"Updated plots saved in the 'outputData/population_plots' directory with 16:9 aspect ratio and font size 15.\""
      ]
     },
     "execution_count": 4,
     "metadata": {},
     "output_type": "execute_result"
    }
   ],
   "source": [
    "import pandas as pd\n",
    "import matplotlib.pyplot as plt\n",
    "import os\n",
    "\n",
    "df = long_data\n",
    "\n",
    "# Create directory to store PNG files\n",
    "output_dir = \"outputData/population_plots\"\n",
    "os.makedirs(output_dir, exist_ok=True)\n",
    "\n",
    "# Custom legend labels\n",
    "legend_labels = {\n",
    "    'BIRTHS': 'Births',\n",
    "    'DEATHS': 'Deaths',\n",
    "    'NETMIG': 'Net Migration',\n",
    "    'NATINC': 'Natural Pop Change'\n",
    "}\n",
    "\n",
    "# Get unique county names after filtering\n",
    "unique_names = df['NAME'].unique()\n",
    "\n",
    "# Filter data for relevant variables\n",
    "filtered_df = df[df['VARIABLE'].isin(['BIRTHS', 'DEATHS', 'NATINC', 'NETMIG'])]\n",
    "\n",
    "# Define color palette\n",
    "colors = ['#365072', '#0075BF', '#00B2BF', '#2A7F67', '#8DBF00']\n",
    "\n",
    "# Generate line plots with 16:9 aspect ratio and updated font size\n",
    "for name in unique_names:\n",
    "    subset = filtered_df[filtered_df['NAME'] == name]\n",
    "\n",
    "    # Pivot the data for easier plotting\n",
    "    pivot_data = subset.pivot(index='YEAR', columns='VARIABLE', values='VALUE')\n",
    "\n",
    "    plt.figure(figsize=(16, 9))  # Set aspect ratio to 16:9\n",
    "    for i, col in enumerate(pivot_data.columns):\n",
    "        plt.plot(pivot_data.index, pivot_data[col], marker='o', label=legend_labels.get(col, col), color=colors[i % len(colors)])\n",
    "\n",
    "    plt.title(f\"What is driving population change in {name} County? (2010-2023)\", fontsize=18)\n",
    "\n",
    "    # Place legend below the plot\n",
    "    plt.legend(fontsize=15, loc='lower center', bbox_to_anchor=(0.5, -0.2), ncol=2, frameon=True)\n",
    "\n",
    "    plt.grid(True)\n",
    "    \n",
    "    # Remove x and y axis labels\n",
    "    plt.xlabel(\"\")\n",
    "    plt.ylabel(\"\")\n",
    "    plt.xticks(fontsize=15)\n",
    "    plt.yticks(fontsize=15)\n",
    "\n",
    "    # Save each plot in the created directory\n",
    "    filename = os.path.join(output_dir, f\"{name.replace(' ', '_')}_population_factors.png\")\n",
    "    plt.savefig(filename, bbox_inches='tight')  # Ensure legend is fully captured\n",
    "    plt.close()\n",
    "\n",
    "# Notify user\n",
    "f\"Updated plots saved in the '{output_dir}' directory with 16:9 aspect ratio and font size 15.\"\n"
   ]
  },
  {
   "cell_type": "markdown",
   "id": "6c9e7e14-ff33-480c-bf11-f88662ee5573",
   "metadata": {},
   "source": [
    "# Upload to AGO"
   ]
  },
  {
   "cell_type": "code",
   "execution_count": 5,
   "id": "c826c813-ab1f-484e-b8b9-b9c987477beb",
   "metadata": {},
   "outputs": [
    {
     "name": "stdout",
     "output_type": "stream",
     "text": [
      "Deleted existing item with title: 15-County Region population factors\n"
     ]
    },
    {
     "name": "stderr",
     "output_type": "stream",
     "text": [
      "C:\\Users\\ogwynn\\AppData\\Local\\Packages\\PythonSoftwareFoundation.Python.3.12_qbz5n2kfra8p0\\LocalCache\\local-packages\\Python312\\site-packages\\IPython\\core\\interactiveshell.py:3577: DeprecatedWarning: add is deprecated as of 2.3.0 and has been removed in 3.0.0. Use `Folder.add()` instead.\n",
      "  exec(code_obj, self.user_global_ns, self.user_ns)\n",
      "C:\\Users\\ogwynn\\AppData\\Local\\Packages\\PythonSoftwareFoundation.Python.3.12_qbz5n2kfra8p0\\LocalCache\\local-packages\\Python312\\site-packages\\IPython\\core\\interactiveshell.py:3577: DeprecatedWarning: share is deprecated as of 2.3.0 and has been removed in 3.0.0. Use `Item.sharing` instead.\n",
      "  exec(code_obj, self.user_global_ns, self.user_ns)\n"
     ]
    },
    {
     "name": "stdout",
     "output_type": "stream",
     "text": [
      "Uploaded 15-County_Region_population_factors.png with item ID: ec15ef1c82464f1687fbae796fdb4000 and set it to public\n",
      "Deleted existing item with title: Delaware population factors\n"
     ]
    },
    {
     "name": "stderr",
     "output_type": "stream",
     "text": [
      "C:\\Users\\ogwynn\\AppData\\Local\\Packages\\PythonSoftwareFoundation.Python.3.12_qbz5n2kfra8p0\\LocalCache\\local-packages\\Python312\\site-packages\\IPython\\core\\interactiveshell.py:3577: DeprecatedWarning: add is deprecated as of 2.3.0 and has been removed in 3.0.0. Use `Folder.add()` instead.\n",
      "  exec(code_obj, self.user_global_ns, self.user_ns)\n",
      "C:\\Users\\ogwynn\\AppData\\Local\\Packages\\PythonSoftwareFoundation.Python.3.12_qbz5n2kfra8p0\\LocalCache\\local-packages\\Python312\\site-packages\\IPython\\core\\interactiveshell.py:3577: DeprecatedWarning: share is deprecated as of 2.3.0 and has been removed in 3.0.0. Use `Item.sharing` instead.\n",
      "  exec(code_obj, self.user_global_ns, self.user_ns)\n"
     ]
    },
    {
     "name": "stdout",
     "output_type": "stream",
     "text": [
      "Uploaded Delaware_population_factors.png with item ID: dedd3778f5534726ab15c35301319b37 and set it to public\n",
      "Deleted existing item with title: Fairfield population factors\n"
     ]
    },
    {
     "name": "stderr",
     "output_type": "stream",
     "text": [
      "C:\\Users\\ogwynn\\AppData\\Local\\Packages\\PythonSoftwareFoundation.Python.3.12_qbz5n2kfra8p0\\LocalCache\\local-packages\\Python312\\site-packages\\IPython\\core\\interactiveshell.py:3577: DeprecatedWarning: add is deprecated as of 2.3.0 and has been removed in 3.0.0. Use `Folder.add()` instead.\n",
      "  exec(code_obj, self.user_global_ns, self.user_ns)\n",
      "C:\\Users\\ogwynn\\AppData\\Local\\Packages\\PythonSoftwareFoundation.Python.3.12_qbz5n2kfra8p0\\LocalCache\\local-packages\\Python312\\site-packages\\IPython\\core\\interactiveshell.py:3577: DeprecatedWarning: share is deprecated as of 2.3.0 and has been removed in 3.0.0. Use `Item.sharing` instead.\n",
      "  exec(code_obj, self.user_global_ns, self.user_ns)\n"
     ]
    },
    {
     "name": "stdout",
     "output_type": "stream",
     "text": [
      "Uploaded Fairfield_population_factors.png with item ID: 889af63ad53140279c9ef4f8a338e2dc and set it to public\n",
      "Deleted existing item with title: Fayette population factors\n"
     ]
    },
    {
     "name": "stderr",
     "output_type": "stream",
     "text": [
      "C:\\Users\\ogwynn\\AppData\\Local\\Packages\\PythonSoftwareFoundation.Python.3.12_qbz5n2kfra8p0\\LocalCache\\local-packages\\Python312\\site-packages\\IPython\\core\\interactiveshell.py:3577: DeprecatedWarning: add is deprecated as of 2.3.0 and has been removed in 3.0.0. Use `Folder.add()` instead.\n",
      "  exec(code_obj, self.user_global_ns, self.user_ns)\n",
      "C:\\Users\\ogwynn\\AppData\\Local\\Packages\\PythonSoftwareFoundation.Python.3.12_qbz5n2kfra8p0\\LocalCache\\local-packages\\Python312\\site-packages\\IPython\\core\\interactiveshell.py:3577: DeprecatedWarning: share is deprecated as of 2.3.0 and has been removed in 3.0.0. Use `Item.sharing` instead.\n",
      "  exec(code_obj, self.user_global_ns, self.user_ns)\n"
     ]
    },
    {
     "name": "stdout",
     "output_type": "stream",
     "text": [
      "Uploaded Fayette_population_factors.png with item ID: 0f35faa1b4d14534a2c2e4141176f3fb and set it to public\n",
      "Deleted existing item with title: Franklin population factors\n"
     ]
    },
    {
     "name": "stderr",
     "output_type": "stream",
     "text": [
      "C:\\Users\\ogwynn\\AppData\\Local\\Packages\\PythonSoftwareFoundation.Python.3.12_qbz5n2kfra8p0\\LocalCache\\local-packages\\Python312\\site-packages\\IPython\\core\\interactiveshell.py:3577: DeprecatedWarning: add is deprecated as of 2.3.0 and has been removed in 3.0.0. Use `Folder.add()` instead.\n",
      "  exec(code_obj, self.user_global_ns, self.user_ns)\n",
      "C:\\Users\\ogwynn\\AppData\\Local\\Packages\\PythonSoftwareFoundation.Python.3.12_qbz5n2kfra8p0\\LocalCache\\local-packages\\Python312\\site-packages\\IPython\\core\\interactiveshell.py:3577: DeprecatedWarning: share is deprecated as of 2.3.0 and has been removed in 3.0.0. Use `Item.sharing` instead.\n",
      "  exec(code_obj, self.user_global_ns, self.user_ns)\n"
     ]
    },
    {
     "name": "stdout",
     "output_type": "stream",
     "text": [
      "Uploaded Franklin_population_factors.png with item ID: 55e9b36df79649cf897a81facc03b7a2 and set it to public\n",
      "Deleted existing item with title: Hocking population factors\n"
     ]
    },
    {
     "name": "stderr",
     "output_type": "stream",
     "text": [
      "C:\\Users\\ogwynn\\AppData\\Local\\Packages\\PythonSoftwareFoundation.Python.3.12_qbz5n2kfra8p0\\LocalCache\\local-packages\\Python312\\site-packages\\IPython\\core\\interactiveshell.py:3577: DeprecatedWarning: add is deprecated as of 2.3.0 and has been removed in 3.0.0. Use `Folder.add()` instead.\n",
      "  exec(code_obj, self.user_global_ns, self.user_ns)\n",
      "C:\\Users\\ogwynn\\AppData\\Local\\Packages\\PythonSoftwareFoundation.Python.3.12_qbz5n2kfra8p0\\LocalCache\\local-packages\\Python312\\site-packages\\IPython\\core\\interactiveshell.py:3577: DeprecatedWarning: share is deprecated as of 2.3.0 and has been removed in 3.0.0. Use `Item.sharing` instead.\n",
      "  exec(code_obj, self.user_global_ns, self.user_ns)\n"
     ]
    },
    {
     "name": "stdout",
     "output_type": "stream",
     "text": [
      "Uploaded Hocking_population_factors.png with item ID: 711cde01300642eab6b2e3cef9bab1da and set it to public\n",
      "Deleted existing item with title: Knox population factors\n"
     ]
    },
    {
     "name": "stderr",
     "output_type": "stream",
     "text": [
      "C:\\Users\\ogwynn\\AppData\\Local\\Packages\\PythonSoftwareFoundation.Python.3.12_qbz5n2kfra8p0\\LocalCache\\local-packages\\Python312\\site-packages\\IPython\\core\\interactiveshell.py:3577: DeprecatedWarning: add is deprecated as of 2.3.0 and has been removed in 3.0.0. Use `Folder.add()` instead.\n",
      "  exec(code_obj, self.user_global_ns, self.user_ns)\n",
      "C:\\Users\\ogwynn\\AppData\\Local\\Packages\\PythonSoftwareFoundation.Python.3.12_qbz5n2kfra8p0\\LocalCache\\local-packages\\Python312\\site-packages\\IPython\\core\\interactiveshell.py:3577: DeprecatedWarning: share is deprecated as of 2.3.0 and has been removed in 3.0.0. Use `Item.sharing` instead.\n",
      "  exec(code_obj, self.user_global_ns, self.user_ns)\n"
     ]
    },
    {
     "name": "stdout",
     "output_type": "stream",
     "text": [
      "Uploaded Knox_population_factors.png with item ID: 5e34cad286144507b5115749b0567fcb and set it to public\n",
      "Deleted existing item with title: Licking population factors\n"
     ]
    },
    {
     "name": "stderr",
     "output_type": "stream",
     "text": [
      "C:\\Users\\ogwynn\\AppData\\Local\\Packages\\PythonSoftwareFoundation.Python.3.12_qbz5n2kfra8p0\\LocalCache\\local-packages\\Python312\\site-packages\\IPython\\core\\interactiveshell.py:3577: DeprecatedWarning: add is deprecated as of 2.3.0 and has been removed in 3.0.0. Use `Folder.add()` instead.\n",
      "  exec(code_obj, self.user_global_ns, self.user_ns)\n",
      "C:\\Users\\ogwynn\\AppData\\Local\\Packages\\PythonSoftwareFoundation.Python.3.12_qbz5n2kfra8p0\\LocalCache\\local-packages\\Python312\\site-packages\\IPython\\core\\interactiveshell.py:3577: DeprecatedWarning: share is deprecated as of 2.3.0 and has been removed in 3.0.0. Use `Item.sharing` instead.\n",
      "  exec(code_obj, self.user_global_ns, self.user_ns)\n"
     ]
    },
    {
     "name": "stdout",
     "output_type": "stream",
     "text": [
      "Uploaded Licking_population_factors.png with item ID: 8fcb998c994c4b40aba820b4c230c9f7 and set it to public\n",
      "Deleted existing item with title: Logan population factors\n"
     ]
    },
    {
     "name": "stderr",
     "output_type": "stream",
     "text": [
      "C:\\Users\\ogwynn\\AppData\\Local\\Packages\\PythonSoftwareFoundation.Python.3.12_qbz5n2kfra8p0\\LocalCache\\local-packages\\Python312\\site-packages\\IPython\\core\\interactiveshell.py:3577: DeprecatedWarning: add is deprecated as of 2.3.0 and has been removed in 3.0.0. Use `Folder.add()` instead.\n",
      "  exec(code_obj, self.user_global_ns, self.user_ns)\n",
      "C:\\Users\\ogwynn\\AppData\\Local\\Packages\\PythonSoftwareFoundation.Python.3.12_qbz5n2kfra8p0\\LocalCache\\local-packages\\Python312\\site-packages\\IPython\\core\\interactiveshell.py:3577: DeprecatedWarning: share is deprecated as of 2.3.0 and has been removed in 3.0.0. Use `Item.sharing` instead.\n",
      "  exec(code_obj, self.user_global_ns, self.user_ns)\n"
     ]
    },
    {
     "name": "stdout",
     "output_type": "stream",
     "text": [
      "Uploaded Logan_population_factors.png with item ID: ff59e926698c458e8eb70cc10f527803 and set it to public\n",
      "Deleted existing item with title: Madison population factors\n"
     ]
    },
    {
     "name": "stderr",
     "output_type": "stream",
     "text": [
      "C:\\Users\\ogwynn\\AppData\\Local\\Packages\\PythonSoftwareFoundation.Python.3.12_qbz5n2kfra8p0\\LocalCache\\local-packages\\Python312\\site-packages\\IPython\\core\\interactiveshell.py:3577: DeprecatedWarning: add is deprecated as of 2.3.0 and has been removed in 3.0.0. Use `Folder.add()` instead.\n",
      "  exec(code_obj, self.user_global_ns, self.user_ns)\n",
      "C:\\Users\\ogwynn\\AppData\\Local\\Packages\\PythonSoftwareFoundation.Python.3.12_qbz5n2kfra8p0\\LocalCache\\local-packages\\Python312\\site-packages\\IPython\\core\\interactiveshell.py:3577: DeprecatedWarning: share is deprecated as of 2.3.0 and has been removed in 3.0.0. Use `Item.sharing` instead.\n",
      "  exec(code_obj, self.user_global_ns, self.user_ns)\n"
     ]
    },
    {
     "name": "stdout",
     "output_type": "stream",
     "text": [
      "Uploaded Madison_population_factors.png with item ID: f9a2fe2f22cd4489a316a0c7515fd80d and set it to public\n",
      "Deleted existing item with title: Marion population factors\n"
     ]
    },
    {
     "name": "stderr",
     "output_type": "stream",
     "text": [
      "C:\\Users\\ogwynn\\AppData\\Local\\Packages\\PythonSoftwareFoundation.Python.3.12_qbz5n2kfra8p0\\LocalCache\\local-packages\\Python312\\site-packages\\IPython\\core\\interactiveshell.py:3577: DeprecatedWarning: add is deprecated as of 2.3.0 and has been removed in 3.0.0. Use `Folder.add()` instead.\n",
      "  exec(code_obj, self.user_global_ns, self.user_ns)\n",
      "C:\\Users\\ogwynn\\AppData\\Local\\Packages\\PythonSoftwareFoundation.Python.3.12_qbz5n2kfra8p0\\LocalCache\\local-packages\\Python312\\site-packages\\IPython\\core\\interactiveshell.py:3577: DeprecatedWarning: share is deprecated as of 2.3.0 and has been removed in 3.0.0. Use `Item.sharing` instead.\n",
      "  exec(code_obj, self.user_global_ns, self.user_ns)\n"
     ]
    },
    {
     "name": "stdout",
     "output_type": "stream",
     "text": [
      "Uploaded Marion_population_factors.png with item ID: 2fb1aab78c964d5bb9aee56cd49ed349 and set it to public\n",
      "Deleted existing item with title: Morrow population factors\n"
     ]
    },
    {
     "name": "stderr",
     "output_type": "stream",
     "text": [
      "C:\\Users\\ogwynn\\AppData\\Local\\Packages\\PythonSoftwareFoundation.Python.3.12_qbz5n2kfra8p0\\LocalCache\\local-packages\\Python312\\site-packages\\IPython\\core\\interactiveshell.py:3577: DeprecatedWarning: add is deprecated as of 2.3.0 and has been removed in 3.0.0. Use `Folder.add()` instead.\n",
      "  exec(code_obj, self.user_global_ns, self.user_ns)\n",
      "C:\\Users\\ogwynn\\AppData\\Local\\Packages\\PythonSoftwareFoundation.Python.3.12_qbz5n2kfra8p0\\LocalCache\\local-packages\\Python312\\site-packages\\IPython\\core\\interactiveshell.py:3577: DeprecatedWarning: share is deprecated as of 2.3.0 and has been removed in 3.0.0. Use `Item.sharing` instead.\n",
      "  exec(code_obj, self.user_global_ns, self.user_ns)\n"
     ]
    },
    {
     "name": "stdout",
     "output_type": "stream",
     "text": [
      "Uploaded Morrow_population_factors.png with item ID: c6789fec762b495b8fcd57dcb755832d and set it to public\n",
      "Deleted existing item with title: Perry population factors\n"
     ]
    },
    {
     "name": "stderr",
     "output_type": "stream",
     "text": [
      "C:\\Users\\ogwynn\\AppData\\Local\\Packages\\PythonSoftwareFoundation.Python.3.12_qbz5n2kfra8p0\\LocalCache\\local-packages\\Python312\\site-packages\\IPython\\core\\interactiveshell.py:3577: DeprecatedWarning: add is deprecated as of 2.3.0 and has been removed in 3.0.0. Use `Folder.add()` instead.\n",
      "  exec(code_obj, self.user_global_ns, self.user_ns)\n",
      "C:\\Users\\ogwynn\\AppData\\Local\\Packages\\PythonSoftwareFoundation.Python.3.12_qbz5n2kfra8p0\\LocalCache\\local-packages\\Python312\\site-packages\\IPython\\core\\interactiveshell.py:3577: DeprecatedWarning: share is deprecated as of 2.3.0 and has been removed in 3.0.0. Use `Item.sharing` instead.\n",
      "  exec(code_obj, self.user_global_ns, self.user_ns)\n"
     ]
    },
    {
     "name": "stdout",
     "output_type": "stream",
     "text": [
      "Uploaded Perry_population_factors.png with item ID: 4128ecf709f24ff0b6b6a02513d118b3 and set it to public\n",
      "Deleted existing item with title: Pickaway population factors\n"
     ]
    },
    {
     "name": "stderr",
     "output_type": "stream",
     "text": [
      "C:\\Users\\ogwynn\\AppData\\Local\\Packages\\PythonSoftwareFoundation.Python.3.12_qbz5n2kfra8p0\\LocalCache\\local-packages\\Python312\\site-packages\\IPython\\core\\interactiveshell.py:3577: DeprecatedWarning: add is deprecated as of 2.3.0 and has been removed in 3.0.0. Use `Folder.add()` instead.\n",
      "  exec(code_obj, self.user_global_ns, self.user_ns)\n",
      "C:\\Users\\ogwynn\\AppData\\Local\\Packages\\PythonSoftwareFoundation.Python.3.12_qbz5n2kfra8p0\\LocalCache\\local-packages\\Python312\\site-packages\\IPython\\core\\interactiveshell.py:3577: DeprecatedWarning: share is deprecated as of 2.3.0 and has been removed in 3.0.0. Use `Item.sharing` instead.\n",
      "  exec(code_obj, self.user_global_ns, self.user_ns)\n"
     ]
    },
    {
     "name": "stdout",
     "output_type": "stream",
     "text": [
      "Uploaded Pickaway_population_factors.png with item ID: 0e421e856154421481ec269619dfaf5e and set it to public\n",
      "Deleted existing item with title: Ross population factors\n"
     ]
    },
    {
     "name": "stderr",
     "output_type": "stream",
     "text": [
      "C:\\Users\\ogwynn\\AppData\\Local\\Packages\\PythonSoftwareFoundation.Python.3.12_qbz5n2kfra8p0\\LocalCache\\local-packages\\Python312\\site-packages\\IPython\\core\\interactiveshell.py:3577: DeprecatedWarning: add is deprecated as of 2.3.0 and has been removed in 3.0.0. Use `Folder.add()` instead.\n",
      "  exec(code_obj, self.user_global_ns, self.user_ns)\n",
      "C:\\Users\\ogwynn\\AppData\\Local\\Packages\\PythonSoftwareFoundation.Python.3.12_qbz5n2kfra8p0\\LocalCache\\local-packages\\Python312\\site-packages\\IPython\\core\\interactiveshell.py:3577: DeprecatedWarning: share is deprecated as of 2.3.0 and has been removed in 3.0.0. Use `Item.sharing` instead.\n",
      "  exec(code_obj, self.user_global_ns, self.user_ns)\n"
     ]
    },
    {
     "name": "stdout",
     "output_type": "stream",
     "text": [
      "Uploaded Ross_population_factors.png with item ID: 1287f1deda1d413b93409ff2c8c42a1e and set it to public\n",
      "Deleted existing item with title: Union population factors\n"
     ]
    },
    {
     "name": "stderr",
     "output_type": "stream",
     "text": [
      "C:\\Users\\ogwynn\\AppData\\Local\\Packages\\PythonSoftwareFoundation.Python.3.12_qbz5n2kfra8p0\\LocalCache\\local-packages\\Python312\\site-packages\\IPython\\core\\interactiveshell.py:3577: DeprecatedWarning: add is deprecated as of 2.3.0 and has been removed in 3.0.0. Use `Folder.add()` instead.\n",
      "  exec(code_obj, self.user_global_ns, self.user_ns)\n",
      "C:\\Users\\ogwynn\\AppData\\Local\\Packages\\PythonSoftwareFoundation.Python.3.12_qbz5n2kfra8p0\\LocalCache\\local-packages\\Python312\\site-packages\\IPython\\core\\interactiveshell.py:3577: DeprecatedWarning: share is deprecated as of 2.3.0 and has been removed in 3.0.0. Use `Item.sharing` instead.\n",
      "  exec(code_obj, self.user_global_ns, self.user_ns)\n"
     ]
    },
    {
     "name": "stdout",
     "output_type": "stream",
     "text": [
      "Uploaded Union_population_factors.png with item ID: 983990630b694935a4e1a7c225f280b1 and set it to public\n",
      "Upload complete. Mapping file saved as 'AGO_County_ItemURL_Mapping.csv'.\n"
     ]
    }
   ],
   "source": [
    "import time\n",
    "from arcgis.gis import GIS\n",
    "import os\n",
    "import pandas as pd\n",
    "\n",
    "# Directory where images are saved\n",
    "output_dir = 'outputData/population_plots'\n",
    "\n",
    "# Initialize list to store county-item mappings\n",
    "county_item_mapping = []\n",
    "\n",
    "# Connect to ArcGIS Online\n",
    "gis = GIS(\"https://www.arcgis.com\", \"ogwynn_morpc\", \"Cr33p3r11!!\")\n",
    "\n",
    "# Loop through the output directory and upload files\n",
    "for filename in os.listdir(output_dir):\n",
    "    if filename.endswith(\".png\"):\n",
    "        file_path = os.path.join(output_dir, filename)\n",
    "        \n",
    "        # Define item properties\n",
    "        title = filename.replace(\"_\", \" \").replace(\".png\", \"\")\n",
    "        county_name = filename.split('_')[0]  # Extract county name from the filename\n",
    "        item_properties = {\n",
    "            \"title\": title,\n",
    "            \"description\": f\"Population trends in {county_name} County (2010-2023).\",\n",
    "            \"type\": \"Image\"\n",
    "        }\n",
    "        \n",
    "        # Search for an existing item with the same title\n",
    "        existing_items = gis.content.search(query=title, item_type=\"Image\", max_items=1)\n",
    "        if existing_items:\n",
    "            # If an existing item is found, delete it\n",
    "            existing_item = existing_items[0]\n",
    "            existing_item.delete()\n",
    "            print(f\"Deleted existing item with title: {title}\")\n",
    "            time.sleep(2)  # Wait for 2 seconds before uploading the new item\n",
    "\n",
    "        try:\n",
    "            # Upload the new image\n",
    "            image_item = gis.content.add(item_properties, data=file_path)\n",
    "            \n",
    "            # Make the item public\n",
    "            image_item.share(everyone=True)\n",
    "\n",
    "            # Append the county name, item URL, and title to the list\n",
    "            county_item_mapping.append((county_name, f\"https://www.arcgis.com/sharing/rest/content/items/{image_item.id}/data\", title))\n",
    "\n",
    "            # Print confirmation\n",
    "            print(f\"Uploaded {filename} with item ID: {image_item.id} and set it to public\")\n",
    "        \n",
    "        except Exception as e:\n",
    "            print(f\"Error uploading {filename}: {e}\")\n",
    "\n",
    "# Convert the list to a DataFrame and save\n",
    "mapping_df = pd.DataFrame(county_item_mapping, columns=['COUNTY', 'itemURL', 'title'])\n",
    "mapping_df['TilesetID'] = 13\n",
    "mapping_file_path = 'AGO_County_ItemURL_Mapping.csv'\n",
    "mapping_df.to_csv(mapping_file_path, index=False)\n",
    "\n",
    "print(f\"Upload complete. Mapping file saved as '{mapping_file_path}'.\")\n"
   ]
  },
  {
   "cell_type": "markdown",
   "id": "c9f15cf7-0d84-4d76-b61b-02b696a6a334",
   "metadata": {},
   "source": [
    "## Updating local catalog"
   ]
  },
  {
   "cell_type": "code",
   "execution_count": 7,
   "id": "0ede6322-d95e-4b02-aa73-cbb75c84f0b6",
   "metadata": {},
   "outputs": [
    {
     "name": "stdout",
     "output_type": "stream",
     "text": [
      "Updated catalog saved at: outputData/morpc_insights_catalog_updated.xlsx\n"
     ]
    }
   ],
   "source": [
    "import pandas as pd\n",
    "\n",
    "# Load the catalog data\n",
    "catalog_df = pd.read_excel(catalog_path)\n",
    "\n",
    "# Load the mapping data\n",
    "mapping_df = pd.read_csv(mapping_file_path)\n",
    "\n",
    "# Standardize 'COUNTY' values in mapping_df\n",
    "mapping_df['COUNTY'] = mapping_df['COUNTY'].replace('15-County', '15County')\n",
    "\n",
    "# Create a mapping dictionary from mapping_df\n",
    "mapping_dict = dict(zip(zip(mapping_df['COUNTY'], mapping_df['TilesetID']), mapping_df['itemURL']))\n",
    "\n",
    "# Update 'ThumbnailURL' only where there is a match in mapping_dict\n",
    "catalog_df['ThumbnailURL'] = catalog_df.apply(\n",
    "    lambda row: mapping_dict.get((row['GeographyName'], row['TilesetID']), row['ThumbnailURL']),\n",
    "    axis=1\n",
    ")\n",
    "\n",
    "# Save the updated catalog back to an Excel file\n",
    "updated_catalog_path = \"outputData/morpc_insights_catalog_updated.xlsx\"\n",
    "catalog_df.to_excel(updated_catalog_path, index=False)\n",
    "\n",
    "# Provide the file to the user\n",
    "print(f\"Updated catalog saved at: {updated_catalog_path}\")\n"
   ]
  },
  {
   "cell_type": "markdown",
   "id": "1cc397d8-c149-4086-9d88-9ed7d0231c69",
   "metadata": {},
   "source": [
    "## Pushing changes to AGO Excel"
   ]
  },
  {
   "cell_type": "code",
   "execution_count": 8,
   "id": "c6d2d0a3-ca05-4200-8a7f-8244b1a58bbc",
   "metadata": {},
   "outputs": [
    {
     "name": "stdout",
     "output_type": "stream",
     "text": [
      "Found item: morpc_insights_catalog\n",
      "Successfully updated the Excel file in AGO.\n"
     ]
    }
   ],
   "source": [
    "# Define the item ID of the Excel file in AGO\n",
    "ITEM_ID = \"c396b9d0db724d1f870fa47f1d1dc1ce\"\n",
    "\n",
    "# Get the existing item\n",
    "item = gis.content.get(ITEM_ID)\n",
    "\n",
    "if item:\n",
    "    print(f\"Found item: {item.title}\")\n",
    "\n",
    "    # Update the item with the new file\n",
    "    item.update(\n",
    "        item_properties={\"title\": item.title},  # Keeps the existing metadata\n",
    "        data=updated_catalog_path  # Replaces the file\n",
    "    )\n",
    "    \n",
    "    print(\"Successfully updated the Excel file in AGO.\")\n",
    "else:\n",
    "    print(\"Item not found. Check the item ID and your permissions.\")\n"
   ]
  }
 ],
 "metadata": {
  "kernelspec": {
   "display_name": "Python 3 (ipykernel)",
   "language": "python",
   "name": "python3"
  },
  "language_info": {
   "codemirror_mode": {
    "name": "ipython",
    "version": 3
   },
   "file_extension": ".py",
   "mimetype": "text/x-python",
   "name": "python",
   "nbconvert_exporter": "python",
   "pygments_lexer": "ipython3",
   "version": "3.12.8"
  }
 },
 "nbformat": 4,
 "nbformat_minor": 5
}
